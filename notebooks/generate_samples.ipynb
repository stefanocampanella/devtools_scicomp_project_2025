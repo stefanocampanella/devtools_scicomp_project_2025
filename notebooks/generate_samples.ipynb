{
 "cells": [
  {
   "cell_type": "code",
   "execution_count": 1,
   "id": "c5e90bda-44e8-4b2f-b0ad-69c5ad50165b",
   "metadata": {
    "execution": {
     "iopub.execute_input": "2025-08-14T14:35:19.557793Z",
     "iopub.status.busy": "2025-08-14T14:35:19.557638Z",
     "iopub.status.idle": "2025-08-14T14:35:25.840358Z",
     "shell.execute_reply": "2025-08-14T14:35:25.839886Z"
    }
   },
   "outputs": [],
   "source": [
    "import pathlib\n",
    "import tomllib\n",
    "import haiku as hk\n",
    "import jax\n",
    "import jax.numpy as jnp\n",
    "import orbax.checkpoint as ocp\n",
    "import matplotlib.pyplot as plt\n",
    "\n",
    "from causal_conv_arm.arm import ARM\n",
    "from causal_conv_arm.utils import plot_grid"
   ]
  },
  {
   "cell_type": "code",
   "execution_count": 2,
   "id": "1d3cba8f-04f3-40c3-a9db-a95e734cbf4a",
   "metadata": {
    "execution": {
     "iopub.execute_input": "2025-08-14T14:35:25.842358Z",
     "iopub.status.busy": "2025-08-14T14:35:25.842089Z",
     "iopub.status.idle": "2025-08-14T14:35:25.844454Z",
     "shell.execute_reply": "2025-08-14T14:35:25.844080Z"
    }
   },
   "outputs": [],
   "source": [
    "config_path = pathlib.Path(\"../configs/train.toml\")"
   ]
  },
  {
   "cell_type": "code",
   "execution_count": 3,
   "id": "1b80d8ee-88de-4ab6-8219-dd4e0abb9325",
   "metadata": {
    "execution": {
     "iopub.execute_input": "2025-08-14T14:35:25.845634Z",
     "iopub.status.busy": "2025-08-14T14:35:25.845488Z",
     "iopub.status.idle": "2025-08-14T14:35:25.848258Z",
     "shell.execute_reply": "2025-08-14T14:35:25.847891Z"
    }
   },
   "outputs": [],
   "source": [
    "with config_path.open('rb') as file:\n",
    "    config = tomllib.load(file)"
   ]
  },
  {
   "cell_type": "code",
   "execution_count": 4,
   "id": "f6ae0889-a361-412d-93d5-dd70fed1ce47",
   "metadata": {
    "execution": {
     "iopub.execute_input": "2025-08-14T14:35:25.849413Z",
     "iopub.status.busy": "2025-08-14T14:35:25.849258Z",
     "iopub.status.idle": "2025-08-14T14:35:33.190119Z",
     "shell.execute_reply": "2025-08-14T14:35:33.189638Z"
    }
   },
   "outputs": [
    {
     "name": "stderr",
     "output_type": "stream",
     "text": [
      "Could not load symbol cuFuncGetName. Error: /lib64/libcuda.so.1: undefined symbol: cuFuncGetName\n"
     ]
    }
   ],
   "source": [
    "@hk.without_apply_rng\n",
    "@hk.transform\n",
    "def loglikelihood(xs):\n",
    "    model = ARM(**config['model'])\n",
    "    return model.loglikelihood(xs)\n",
    "\n",
    "@hk.transform\n",
    "def sample(x_seed):\n",
    "    model = ARM(**config['model'])\n",
    "    return model.sample(x_seed)\n",
    "\n",
    "sample_fn = jax.jit(sample.apply)\n",
    "\n",
    "key = jax.random.key(config['seed'])\n",
    "xs_dummy = jnp.empty((1, config['n_elements']), dtype=jnp.int32)\n",
    "\n",
    "params = loglikelihood.init(key, xs_dummy)"
   ]
  },
  {
   "cell_type": "code",
   "execution_count": 5,
   "id": "80fca136-819a-427b-afeb-46a2b090eec9",
   "metadata": {
    "execution": {
     "iopub.execute_input": "2025-08-14T14:35:33.192050Z",
     "iopub.status.busy": "2025-08-14T14:35:33.191877Z",
     "iopub.status.idle": "2025-08-14T14:35:33.194390Z",
     "shell.execute_reply": "2025-08-14T14:35:33.194001Z"
    }
   },
   "outputs": [],
   "source": [
    "checkpoints_dir = pathlib.Path(\"../data/checkpoints\").resolve()"
   ]
  },
  {
   "cell_type": "code",
   "execution_count": 6,
   "id": "3022fd68-7c5f-42dc-8a3f-c91971a848e4",
   "metadata": {
    "execution": {
     "iopub.execute_input": "2025-08-14T14:35:33.195677Z",
     "iopub.status.busy": "2025-08-14T14:35:33.195518Z",
     "iopub.status.idle": "2025-08-14T14:35:33.206434Z",
     "shell.execute_reply": "2025-08-14T14:35:33.206018Z"
    }
   },
   "outputs": [
    {
     "name": "stdout",
     "output_type": "stream",
     "text": [
      "best_step: 22 latest_step: 22\n"
     ]
    }
   ],
   "source": [
    "ckpt_mngr = ocp.CheckpointManager(checkpoints_dir)\n",
    "\n",
    "best_step = None\n",
    "latest_step = None\n",
    "try:\n",
    "    best_step = ckpt_mngr.best_step()\n",
    "except Exception:\n",
    "    best_step = None\n",
    "\n",
    "try:\n",
    "    latest_step = ckpt_mngr.latest_step()\n",
    "except Exception:\n",
    "    latest_step = None\n",
    "\n",
    "step_to_restore = best_step if best_step is not None else latest_step\n",
    "print('best_step:', best_step, 'latest_step:', latest_step)"
   ]
  },
  {
   "cell_type": "code",
   "execution_count": 7,
   "id": "5e719d41-a439-48ce-a5df-d72cfb82f483",
   "metadata": {
    "execution": {
     "iopub.execute_input": "2025-08-14T14:35:33.207753Z",
     "iopub.status.busy": "2025-08-14T14:35:33.207586Z",
     "iopub.status.idle": "2025-08-14T14:35:33.333981Z",
     "shell.execute_reply": "2025-08-14T14:35:33.333532Z"
    }
   },
   "outputs": [
    {
     "name": "stdout",
     "output_type": "stream",
     "text": [
      "Restored checkpoint step: 22\n"
     ]
    }
   ],
   "source": [
    "restored_params = ckpt_mngr.restore(step_to_restore, args=ocp.args.StandardRestore(params))\n",
    "params = restored_params\n",
    "print(f'Restored checkpoint step: {step_to_restore}')"
   ]
  },
  {
   "cell_type": "code",
   "execution_count": 8,
   "id": "62edee3f-6e00-4b2a-8403-1d01a7a1a318",
   "metadata": {
    "execution": {
     "iopub.execute_input": "2025-08-14T14:35:33.335682Z",
     "iopub.status.busy": "2025-08-14T14:35:33.335506Z",
     "iopub.status.idle": "2025-08-14T14:35:33.353290Z",
     "shell.execute_reply": "2025-08-14T14:35:33.352869Z"
    }
   },
   "outputs": [],
   "source": [
    "%load_ext tensorboard"
   ]
  },
  {
   "cell_type": "code",
   "execution_count": 9,
   "id": "c48d25f9-7115-43a1-ad1f-beb5170963e8",
   "metadata": {
    "execution": {
     "iopub.execute_input": "2025-08-14T14:35:33.354547Z",
     "iopub.status.busy": "2025-08-14T14:35:33.354384Z",
     "iopub.status.idle": "2025-08-14T14:35:37.868545Z",
     "shell.execute_reply": "2025-08-14T14:35:37.867878Z"
    }
   },
   "outputs": [
    {
     "data": {
      "text/html": [
       "\n",
       "      <iframe id=\"tensorboard-frame-e95b1eaf5b9609b\" width=\"100%\" height=\"800\" frameborder=\"0\">\n",
       "      </iframe>\n",
       "      <script>\n",
       "        (function() {\n",
       "          const frame = document.getElementById(\"tensorboard-frame-e95b1eaf5b9609b\");\n",
       "          const url = new URL(\"/\", window.location);\n",
       "          const port = 6006;\n",
       "          if (port) {\n",
       "            url.port = port;\n",
       "          }\n",
       "          frame.src = url;\n",
       "        })();\n",
       "      </script>\n",
       "    "
      ],
      "text/plain": [
       "<IPython.core.display.HTML object>"
      ]
     },
     "metadata": {},
     "output_type": "display_data"
    }
   ],
   "source": [
    "%tensorboard --logdir='../runs'"
   ]
  },
  {
   "cell_type": "code",
   "execution_count": 10,
   "id": "52ed8991-4028-403e-876e-f71a3e8fdfe9",
   "metadata": {
    "execution": {
     "iopub.execute_input": "2025-08-14T14:35:37.870189Z",
     "iopub.status.busy": "2025-08-14T14:35:37.870016Z",
     "iopub.status.idle": "2025-08-14T14:35:44.624205Z",
     "shell.execute_reply": "2025-08-14T14:35:44.623781Z"
    }
   },
   "outputs": [
    {
     "data": {
      "image/png": "[encoded data removed]",
      "text/plain": [
       "<Figure size 960x720 with 16 Axes>"
      ]
     },
     "metadata": {},
     "output_type": "display_data"
    }
   ],
   "source": [
    "key, subkey = jax.random.split(key)\n",
    "sample_seed = jnp.zeros((config['generation_batch_size'], config['n_elements']), dtype=jnp.int32)\n",
    "samples = sample_fn(params, subkey, sample_seed)\n",
    "\n",
    "plot_grid(samples, shape=(28, 28), dpi=150)\n",
    "plt.show()"
   ]
  }
 ],
 "metadata": {
  "kernelspec": {
   "display_name": "Python 3 (ipykernel)",
   "language": "python",
   "name": "python3"
  },
  "language_info": {
   "codemirror_mode": {
    "name": "ipython",
    "version": 3
   },
   "file_extension": ".py",
   "mimetype": "text/x-python",
   "name": "python",
   "nbconvert_exporter": "python",
   "pygments_lexer": "ipython3",
   "version": "3.13.6"
  }
 },
 "nbformat": 4,
 "nbformat_minor": 5
}
